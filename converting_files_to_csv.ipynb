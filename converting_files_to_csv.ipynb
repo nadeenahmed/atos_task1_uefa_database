{
  "nbformat": 4,
  "nbformat_minor": 0,
  "metadata": {
    "colab": {
      "provenance": []
    },
    "kernelspec": {
      "name": "python3",
      "display_name": "Python 3"
    },
    "language_info": {
      "name": "python"
    }
  },
  "cells": [
    {
      "cell_type": "code",
      "execution_count": null,
      "metadata": {
        "id": "EGtBqHxcBs3j",
        "colab": {
          "base_uri": "https://localhost:8080/"
        },
        "outputId": "e070b1d7-cc28-4064-b80a-9ab0acc503d9"
      },
      "outputs": [
        {
          "output_type": "stream",
          "name": "stdout",
          "text": [
            "Converted Matches to Matches.csv\n",
            "Converted Teams to Teams.csv\n",
            "Converted Players to Players.csv\n",
            "Converted PlayerStats to PlayerStats.csv\n",
            "Converted PlayerTransfers to PlayerTransfers.csv\n"
          ]
        }
      ],
      "source": [
        "import pandas as pd\n",
        "\n",
        "excel_file = '/content/drive/MyDrive/FootballDummyData.xlsx'\n",
        "\n",
        "sheet_names = pd.ExcelFile(excel_file).sheet_names\n",
        "\n",
        "for sheet_name in sheet_names:\n",
        "    df = pd.read_excel(excel_file, sheet_name=sheet_name)\n",
        "\n",
        "    output_csv = f'{sheet_name}.csv'\n",
        "\n",
        "    df.to_csv(output_csv, index=False)\n",
        "    print(f\"Converted {sheet_name} to {output_csv}\")\n"
      ]
    }
  ]
}